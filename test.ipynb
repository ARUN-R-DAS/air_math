{
 "cells": [
  {
   "cell_type": "code",
   "execution_count": 1,
   "id": "4578f0f3",
   "metadata": {},
   "outputs": [
    {
     "name": "stdout",
     "output_type": "stream",
     "text": [
      "Collecting mediapipeNote: you may need to restart the kernel to use updated packages.\n",
      "\n",
      "  Downloading mediapipe-0.10.21-cp39-cp39-win_amd64.whl (50.9 MB)\n",
      "Collecting sounddevice>=0.4.4\n",
      "  Downloading sounddevice-0.5.2-py3-none-win_amd64.whl (363 kB)\n",
      "Collecting protobuf<5,>=4.25.3\n",
      "  Downloading protobuf-4.25.8-cp39-cp39-win_amd64.whl (413 kB)\n",
      "Requirement already satisfied: absl-py in c:\\users\\run\\appdata\\local\\programs\\python\\python39\\lib\\site-packages (from mediapipe) (2.3.0)\n",
      "Requirement already satisfied: flatbuffers>=2.0 in c:\\users\\run\\appdata\\local\\programs\\python\\python39\\lib\\site-packages (from mediapipe) (25.2.10)\n",
      "Requirement already satisfied: matplotlib in c:\\users\\run\\appdata\\local\\programs\\python\\python39\\lib\\site-packages (from mediapipe) (3.9.4)\n",
      "Collecting numpy<2\n",
      "  Downloading numpy-1.26.4-cp39-cp39-win_amd64.whl (15.8 MB)\n",
      "Collecting opencv-contrib-python\n",
      "  Downloading opencv_contrib_python-4.12.0.88-cp37-abi3-win_amd64.whl (45.3 MB)\n",
      "Collecting jax\n",
      "  Downloading jax-0.4.30-py3-none-any.whl (2.0 MB)\n",
      "Collecting sentencepiece\n",
      "  Downloading sentencepiece-0.2.0-cp39-cp39-win_amd64.whl (991 kB)\n",
      "Collecting jaxlib\n",
      "  Downloading jaxlib-0.4.30-cp39-cp39-win_amd64.whl (51.9 MB)\n",
      "Requirement already satisfied: attrs>=19.1.0 in c:\\users\\run\\appdata\\local\\programs\\python\\python39\\lib\\site-packages (from mediapipe) (25.3.0)\n",
      "Collecting CFFI>=1.0\n",
      "  Downloading cffi-1.17.1-cp39-cp39-win_amd64.whl (181 kB)\n",
      "Requirement already satisfied: pillow>=8 in c:\\users\\run\\appdata\\local\\programs\\python\\python39\\lib\\site-packages (from matplotlib->mediapipe) (11.2.1)\n",
      "Requirement already satisfied: cycler>=0.10 in c:\\users\\run\\appdata\\local\\programs\\python\\python39\\lib\\site-packages (from matplotlib->mediapipe) (0.12.1)\n",
      "Requirement already satisfied: packaging>=20.0 in c:\\users\\run\\appdata\\local\\programs\\python\\python39\\lib\\site-packages (from matplotlib->mediapipe) (24.2)\n",
      "Requirement already satisfied: importlib-resources>=3.2.0; python_version < \"3.10\" in c:\\users\\run\\appdata\\local\\programs\\python\\python39\\lib\\site-packages (from matplotlib->mediapipe) (6.5.2)\n",
      "Requirement already satisfied: pyparsing>=2.3.1 in c:\\users\\run\\appdata\\local\\programs\\python\\python39\\lib\\site-packages (from matplotlib->mediapipe) (3.2.3)\n",
      "Requirement already satisfied: python-dateutil>=2.7 in c:\\users\\run\\appdata\\local\\programs\\python\\python39\\lib\\site-packages (from matplotlib->mediapipe) (2.9.0.post0)\n",
      "Requirement already satisfied: contourpy>=1.0.1 in c:\\users\\run\\appdata\\local\\programs\\python\\python39\\lib\\site-packages (from matplotlib->mediapipe) (1.3.0)\n",
      "Requirement already satisfied: kiwisolver>=1.3.1 in c:\\users\\run\\appdata\\local\\programs\\python\\python39\\lib\\site-packages (from matplotlib->mediapipe) (1.4.7)\n",
      "Requirement already satisfied: fonttools>=4.22.0 in c:\\users\\run\\appdata\\local\\programs\\python\\python39\\lib\\site-packages (from matplotlib->mediapipe) (4.58.4)\n",
      "Requirement already satisfied: ml-dtypes>=0.2.0 in c:\\users\\run\\appdata\\local\\programs\\python\\python39\\lib\\site-packages (from jax->mediapipe) (0.5.1)\n",
      "Requirement already satisfied: opt-einsum in c:\\users\\run\\appdata\\local\\programs\\python\\python39\\lib\\site-packages (from jax->mediapipe) (3.4.0)\n",
      "Requirement already satisfied: scipy>=1.9 in c:\\users\\run\\appdata\\local\\programs\\python\\python39\\lib\\site-packages (from jax->mediapipe) (1.13.1)\n",
      "Requirement already satisfied: importlib-metadata>=4.6; python_version < \"3.10\" in c:\\users\\run\\appdata\\roaming\\python\\python39\\site-packages (from jax->mediapipe) (8.7.0)\n",
      "Collecting pycparser\n",
      "  Downloading pycparser-2.22-py3-none-any.whl (117 kB)\n",
      "Requirement already satisfied: zipp>=3.1.0; python_version < \"3.10\" in c:\\users\\run\\appdata\\roaming\\python\\python39\\site-packages (from importlib-resources>=3.2.0; python_version < \"3.10\"->matplotlib->mediapipe) (3.23.0)\n",
      "Requirement already satisfied: six>=1.5 in c:\\users\\run\\appdata\\local\\programs\\python\\python39\\lib\\site-packages (from python-dateutil>=2.7->matplotlib->mediapipe) (1.17.0)\n",
      "Installing collected packages: pycparser, CFFI, sounddevice, protobuf, numpy, opencv-contrib-python, jaxlib, jax, sentencepiece, mediapipe\n",
      "  Attempting uninstall: protobuf\n",
      "    Found existing installation: protobuf 5.29.5\n",
      "    Uninstalling protobuf-5.29.5:\n",
      "      Successfully uninstalled protobuf-5.29.5\n",
      "  Attempting uninstall: numpy\n",
      "    Found existing installation: numpy 2.0.2\n",
      "    Uninstalling numpy-2.0.2:\n",
      "      Successfully uninstalled numpy-2.0.2\n",
      "Successfully installed CFFI-1.17.1 jax-0.4.30 jaxlib-0.4.30 mediapipe-0.10.21 numpy-1.26.4 opencv-contrib-python-4.12.0.88 protobuf-4.25.8 pycparser-2.22 sentencepiece-0.2.0 sounddevice-0.5.2\n"
     ]
    },
    {
     "name": "stderr",
     "output_type": "stream",
     "text": [
      "ERROR: After October 2020 you may experience errors when installing or updating packages. This is because pip will change the way that it resolves dependency conflicts.\n",
      "\n",
      "We recommend you use --use-feature=2020-resolver to test your packages with the new resolver before it becomes the default.\n",
      "\n",
      "opencv-contrib-python 4.12.0.88 requires numpy<2.3.0,>=2; python_version >= \"3.9\", but you'll have numpy 1.26.4 which is incompatible.\n",
      "WARNING: You are using pip version 20.2.3; however, version 25.1.1 is available.\n",
      "You should consider upgrading via the 'c:\\Users\\RUN\\AppData\\Local\\Programs\\Python\\Python39\\python.exe -m pip install --upgrade pip' command.\n"
     ]
    }
   ],
   "source": [
    "pip install mediapipe"
   ]
  },
  {
   "cell_type": "code",
   "execution_count": 2,
   "id": "9ae618bf",
   "metadata": {},
   "outputs": [
    {
     "name": "stdout",
     "output_type": "stream",
     "text": [
      "Collecting opencv-python\n",
      "  Downloading opencv_python-4.12.0.88-cp37-abi3-win_amd64.whl (39.0 MB)\n",
      "Collecting numpy<2.3.0,>=2; python_version >= \"3.9\"\n",
      "  Using cached numpy-2.0.2-cp39-cp39-win_amd64.whl (15.9 MB)\n",
      "Installing collected packages: numpy, opencv-python\n",
      "  Attempting uninstall: numpy\n",
      "    Found existing installation: numpy 1.26.4\n",
      "    Uninstalling numpy-1.26.4:\n",
      "      Successfully uninstalled numpy-1.26.4\n",
      "Successfully installed numpy-2.0.2 opencv-python-4.12.0.88\n",
      "Note: you may need to restart the kernel to use updated packages.\n"
     ]
    },
    {
     "name": "stderr",
     "output_type": "stream",
     "text": [
      "ERROR: After October 2020 you may experience errors when installing or updating packages. This is because pip will change the way that it resolves dependency conflicts.\n",
      "\n",
      "We recommend you use --use-feature=2020-resolver to test your packages with the new resolver before it becomes the default.\n",
      "\n",
      "mediapipe 0.10.21 requires numpy<2, but you'll have numpy 2.0.2 which is incompatible.\n",
      "WARNING: You are using pip version 20.2.3; however, version 25.1.1 is available.\n",
      "You should consider upgrading via the 'c:\\Users\\RUN\\AppData\\Local\\Programs\\Python\\Python39\\python.exe -m pip install --upgrade pip' command.\n"
     ]
    }
   ],
   "source": [
    "pip install opencv-python"
   ]
  },
  {
   "cell_type": "code",
   "execution_count": null,
   "id": "6bd4a6d0",
   "metadata": {},
   "outputs": [],
   "source": []
  }
 ],
 "metadata": {
  "kernelspec": {
   "display_name": "Python 3",
   "language": "python",
   "name": "python3"
  },
  "language_info": {
   "codemirror_mode": {
    "name": "ipython",
    "version": 3
   },
   "file_extension": ".py",
   "mimetype": "text/x-python",
   "name": "python",
   "nbconvert_exporter": "python",
   "pygments_lexer": "ipython3",
   "version": "3.9.0"
  }
 },
 "nbformat": 4,
 "nbformat_minor": 5
}
